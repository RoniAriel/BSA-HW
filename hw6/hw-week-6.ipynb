{
 "cells": [
  {
   "cell_type": "markdown",
   "metadata": {},
   "source": [
    "## Homework Assignment - Week 6 - Poisson Process\n",
    "\n",
    "## Due: Feb. 28, 2024"
   ]
  },
  {
   "cell_type": "markdown",
   "metadata": {},
   "source": [
    "### Part 1: if you turned this part in during class, you may continue to part 2.\n",
    "\n",
    "1. **Neuronal Spike Train Analysis Using Poisson Processes**\n",
    "\n",
    "   A neuroscientist is studying the firing patterns of a certain type of neuron in the brain. The average firing rate of these neurons is found to be 5 spikes per second. Assuming that the spike train of these neurons can be modeled as a Poisson process:\n",
    "\n",
    "   a) What is the probability that the neuron fires exactly 10 times in a 2-second interval?\n",
    "\n",
    "   b) Calculate the probability that the neuron fires at least once within a 0.1-second interval.\n",
    "\n",
    "   c) What is the expected value of spikes for a 2 second interval?"
   ]
  },
  {
   "cell_type": "markdown",
   "metadata": {},
   "source": [
    "\n",
    "\n",
    "a)\n",
    "To calculate this probability, we use the Poisson probability mass function:\n",
    "\n",
    "$ P(X = k) = \\frac{{\\lambda^k \\times e^{-\\lambda}}}{{k!}} $\n",
    "\n",
    "\n",
    "$ P(X = 10) = \\frac{{5^{10} \\times e^{-5}}}{{10!}} $\n",
    "\n",
    "$P(X = 10) = \\frac{{9765625 \\times e^{-5}}}{{3628800}}$ $\\approx \\frac{{65848.875}}{{3628800}}$ \n",
    "\n",
    "$\\approx 0.0181 $\n",
    "\n",
    "\n",
    "b) \n",
    "Average firing rate: $lambda = 5$ spikes per second\n",
    "\n",
    "for 0.1 seconds: $lambda = 5 \\times 0.1 = 0.5 $\n",
    "\n",
    "\n",
    "$P(\\text{at least one spike}) = 1 - P(X = 0) $\n",
    "\n",
    "$P(X = 0) = \\frac{{\\lambda^0 \\times e^{-\\lambda}}}{{0!}} $\n",
    "\n",
    "$P(\\text{at least one spike}) = 1 - e^{-\\lambda} $\n",
    "$ = 1 - e^{-0.5}$\n",
    "\n",
    "$e^{-0.5} \\approx 0.6065 $\n",
    "\n",
    "\n",
    "$ P(\\text{at least one spike}) = 1 - 0.6065 $\n",
    "$\\approx 0.3935 $\n",
    "\n",
    "So, the probability that the neuron fires at least once within a 0.1-second interval is approximately \\( 0.3935 \\).\n",
    "\n",
    "\n",
    "\n",
    "c) What is the expected value of spikes for a 2 second interval?\n",
    "    \n",
    "The expected value (mean) of a Poisson distribution is equal to its rate parameter $lambda$ :\n",
    "\n",
    "$\\text{Expected value} = 5 \\times 2 =10$\n",
    "    \n"
   ]
  },
  {
   "cell_type": "markdown",
   "metadata": {},
   "source": [
    "### Part 2: Programming Assignment \n",
    "\n",
    "#### Question 1: Implementing the Poisson Distribution\n",
    "\n",
    "**Objective**: Write a program to manually calculate the probability of observing a given number of events $k$ in a fixed interval, given the average rate of occurrences $\\lambda$, using the Poisson formula. You are not allowed to use any external libraries that directly compute Poisson probabilities.\n",
    "\n",
    "**Instructions**:\n",
    "1. Your program should define a function `poisson_probability(lambda, k)` that takes the average rate $\\lambda$ and the desired number of occurrences $k$ as inputs.\n",
    "2. The function should use the Poisson formula:\n",
    "   $\n",
    "   P(k; \\lambda) = \\frac{\\lambda^k e^{-\\lambda}}{k!}\n",
    "   $\n",
    "3. Calculate $k!$ (factorial of $k$) using a loop or recursive function.\n",
    "4. Return the probability of observing exactly $k$ events.\n",
    "5. Test your function by calculating the probability of observing 3 events for $\\lambda = 2.5$.\n",
    "\n",
    "### Question 2: Drawing a Poisson Distribution\n",
    "\n",
    "**Objective**: Create a function to simulate and plot the Poisson distribution for a given $\\lambda$ over a range of $k$ values (e.g., from 0 to 20). You may use basic plotting libraries (like matplotlib in Python) but should calculate the Poisson probabilities manually using your function from Question 1.\n",
    "\n",
    "**Instructions**:\n",
    "1. Define a function `plot_poisson_distribution(lambda, k_range)` where `lambda` is the average rate of events, and `k_range` is the maximum value of $k$ you want to plot.\n",
    "2. Use your `poisson_probability` function to compute the probabilities for each $k$ from 0 to `k_range`.\n",
    "3. Store the probabilities in a list or array.\n",
    "4. Plot $k$ on the x-axis and the corresponding probabilities on the y-axis. Make sure to label your axes appropriately.\n",
    "5. Test your plotting function with $\\lambda = 4$ and `k_range = 15`.\n",
    "\n",
    "### Question 3: Calculating the Cumulative Probability\n",
    "\n",
    "**Objective**: Write a program to calculate the cumulative probability of observing up to $n$ events for a given $\\lambda$, without using any external cumulative distribution function.\n",
    "\n",
    "**Instructions**:\n",
    "1. Your program should define a function `cumulative_poisson_probability(lambda, n)` that computes the cumulative probability of observing up to $n$ events.\n",
    "2. The function should sum the probabilities of observing 0 up to $n$ events, using your `poisson_probability` function from Question 1.\n",
    "3. Return the cumulative probability.\n",
    "4. Test your function by calculating the cumulative probability of observing up to 5 events for $\\lambda = 3$.\n",
    "\n",
    "### Notes:\n",
    "\n",
    "- For all programming tasks, ensure that your code is well-commented to explain your logic and approach.\n",
    "- Make sure to handle edge cases, such as negative values of $\\lambda$ or $k$, appropriately in your functions.\n",
    "- In Question 2, if you're unfamiliar with plotting libraries, focus on generating the probabilities and understanding the distribution's shape through the output values before attempting to plot."
   ]
  },
  {
   "cell_type": "code",
   "execution_count": 5,
   "metadata": {},
   "outputs": [
    {
     "data": {
      "image/png": "[encoded data removed]",
      "text/plain": [
       "<Figure size 640x480 with 1 Axes>"
      ]
     },
     "metadata": {},
     "output_type": "display_data"
    },
    {
     "name": "stdout",
     "output_type": "stream",
     "text": [
      "None\n"
     ]
    }
   ],
   "source": [
    "\n",
    "import numpy as np\n",
    "import math\n",
    "import matplotlib.pyplot as plt\n",
    "\n",
    "\n",
    "def poisson_probability(Lambda, k):\n",
    "    if Lambda < 0:\n",
    "        raise ValueError(\"lambda cannot be negative\")\n",
    "    if k < 0:\n",
    "        raise ValueError(\"k cannot be negative\")\n",
    "    x = np.emath.power(Lambda, k)\n",
    "    y = np.emath.power(np.e, -Lambda)\n",
    "    numerator = x * y\n",
    "    denominator = Factorial(k)\n",
    "    val = numerator / denominator\n",
    "    return val\n",
    "\n",
    "def Factorial(k):\n",
    "    Sum_List = [1]\n",
    "    n = len(Sum_List)\n",
    "    if n > k:\n",
    "        return Sum_List[k]\n",
    "    else:\n",
    "        for i in range(n, k + 1):\n",
    "            sum = Sum_List[i - 1]\n",
    "            sum *= i\n",
    "            Sum_List.append(sum)\n",
    "        return Sum_List[k]\n",
    "\n",
    "def probability_distribution(Lambda,k_range):\n",
    "    probabilities_List = []\n",
    "    for i in range(k_range):\n",
    "        probability = poisson_probability(Lambda, i)\n",
    "        probabilities_List.append(probability)\n",
    "    return probabilities_List\n",
    "\n",
    "def plot_poisson_distribution(Lambda, k_range):\n",
    "    probabilities_List = probability_distribution(Lambda,k_range)\n",
    "    x_val = np.arange(0,k_range)   \n",
    "    plt.bar(x_val,probabilities_List)\n",
    "    plt.xlabel('K Range')\n",
    "    plt.ylabel('Probabilities')\n",
    "    plt.title('Poisson Distribution')\n",
    "    plt.show()\n",
    "\n",
    "def cumulative_poisson_probability(Lambda, n):\n",
    "    probabilities_List = probability_distribution(Lambda,n)\n",
    "    array_probabilities = np.array(probabilities_List)\n",
    "    cumulative_sum_array = np.sum(array_probabilities)\n",
    "    return cumulative_sum_array\n",
    "\n"
   ]
  }
 ],
 "metadata": {
  "kernelspec": {
   "display_name": "Python 3",
   "language": "python",
   "name": "python3"
  },
  "language_info": {
   "codemirror_mode": {
    "name": "ipython",
    "version": 3
   },
   "file_extension": ".py",
   "mimetype": "text/x-python",
   "name": "python",
   "nbconvert_exporter": "python",
   "pygments_lexer": "ipython3",
   "version": "3.10.1"
  }
 },
 "nbformat": 4,
 "nbformat_minor": 2
}
