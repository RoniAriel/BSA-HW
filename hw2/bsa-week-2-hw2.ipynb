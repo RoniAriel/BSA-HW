{
 "cells": [
  {
   "cell_type": "markdown",
   "metadata": {},
   "source": [
    "# Biological Signals Analysis - Week 2 Homework\n",
    "\n",
    "## Created by Guy Singer, January 11, 2024\n",
    "\n",
    "## Table of Contents\n",
    "- [Math Exercises - Dirac's Delta and Discrete Fourier Transforms](#math-exercises)\n",
    "    - [Question 1: Approximating Dirac's Delta Function with a Gaussian](#question-1)\n",
    "    - [Question 2: Extracting Values from a Continuous Function Using Dirac's Delta](#question-2)\n",
    "    - [Question 3: Mathematical Expression of Discrete Fourier Transform (DFT)](#question-3)\n",
    "    - [Question 4: Conceptual Understanding of Time Domain to Frequency Domain](#question-4)\n",
    "- [Programming Exercises - Analyzing EEG Data](#programming-exercises)\n",
    "    - [Loading and Visualizing the EEG Data](#loading-data)\n",
    "    - [Question 5: Record Your Observations](#question-5)\n",
    "    - [Question 6: Sampling in Time](#question-6)\n",
    "    - [Question 7: Fourier Transform of the EEG Data](#question-7)\n",
    "    - [Question 8: record observations about the frequency plot](#question-8)\n",
    "    - [Decibel Scaling](#decibel-scale)\n",
    "    - [Question 9: interpreting decibel scale results](#question-9)\n",
    "    - [The Spectrogram](#spectrogram)"
   ]
  },
  {
   "cell_type": "markdown",
   "metadata": {},
   "source": [
    "<a id=\"math-exercises\"></a>\n",
    "## Math Exercises - Dirac's Delta and Discreet Fourier Transforms\n",
    "\n",
    "The first portion of this homework assignment contains mathematics questions related to the topics covered this week (sampling in time and transformations into the frequency domain).\n",
    "Please write your answers using the Jupyter markup cell’s LaTeX interpreter, or embed a scanned image/pdf of your answers into the markup cell.\n",
    "\n",
    "More information about LaTeX and Jupyter markdown formatting can be found here:\n",
    "\n",
    "[https://jupyterbook.org/en/stable/content/math.html](https://jupyterbook.org/en/stable/content/math.html)\n",
    "\n",
    "And Here:\n",
    "\n",
    "[https://ashki23.github.io/markdown-latex.html](https://ashki23.github.io/markdown-latex.html)"
   ]
  },
  {
   "cell_type": "markdown",
   "metadata": {},
   "source": [
    "<a id=\"question-1\"></a>\n",
    "### Question 1: Approximating Dirac's Delta Function with a Gaussian\n",
    "It's often useful to approximate the Dirac Delta function, $(\\delta(x))$, with a Gaussian function for practical implementations. Consider a Gaussian function of the form \n",
    "\n",
    "$G(x) = \\frac{1}{\\sigma\\sqrt{2\\pi}} e^{-\\frac{x^2}{2\\sigma^2}}$\n",
    "\n",
    "Where $\\sigma$ is the standard deviation. \n",
    "\n",
    "**Task:** \n",
    "- Derive an expression for $G(x)$ as $\\sigma$ approaches zero, and discuss how this relates to the Dirac Delta function.\n",
    "- Explain the implications of this approximation in the context processing continuous signals.\n",
    "\n",
    "Write your answer in the following markdown cell:"
   ]
  },
  {
   "cell_type": "markdown",
   "metadata": {},
   "source": [
    "To derive an expression for \\(G(x)\\) as $\\sigma$ approaches zero, we start with the standard form of the normal distribution:\n",
    "\n",
    "$G(x) = \\frac{1}{\\sigma\\sqrt{2\\pi}} e^{-\\frac{x^2}{2\\sigma^2}}$\n",
    "\n",
    "Taking the limit as $\\sigma$ approaches zero:\n",
    "\n",
    "$ \\lim_{{\\sigma \\to 0}} G(x) = \\lim_{{\\sigma \\to 0}} \\frac{1}{\\sigma\\sqrt{2\\pi}} e^{-\\frac{x^2}{2\\sigma^2}}$\n",
    "\n",
    "In this limit, the exponential term dominates, and the expression simplifies to:\n",
    "\n",
    "$ G(x) = \\lim_{{\\sigma \\to 0}} \\frac{1}{\\sigma\\sqrt{2\\pi}} $\n",
    "\n",
    "The expression, as $\\sigma$ approaches zero, becomes a spike representing an infinitely narrow and tall peak, which is a characteristic of the Dirac Delta function\n",
    "\n",
    "$G(x) = \\lim_{{\\sigma \\to 0}} \\frac{1}{\\sigma\\sqrt{2\\pi}} e^{-\\frac{x^2}{2\\sigma^2}} = \\delta(x) $\n",
    "\n",
    "where $\\delta(x)$ is the Dirac Delta function.\n",
    "\n",
    "\n",
    "In the context of processing continuous signals, we want to present them in the frequency domain, $\\delta(x)$ allows to convert a continuous signal into a discrete one. Which is essential process in  Fourier transforms- for the straightforward transformation of time-domain signals into frequency-domain representations. Moreover, $\\delta(x)$ simplifies analysis significantly- the approximation of the normal distribution as the Dirac Delta function suggests that the signal becomes increasingly localized and concentrated at a specific point. The Dirac Delta function is often used to model instantaneous events or impulses in signal processing. It can also help to find out whether a signal has a very short duration or undergoes an instantaneous change. \n",
    "\n"
   ]
  },
  {
   "cell_type": "markdown",
   "metadata": {},
   "source": [
    "<a id=\"question-2\"></a>\n",
    "### Question 2: Extracting Values from a Continuous Function Using Dirac's Delta\n",
    "The Dirac Delta function can be used to extract specific values from a continuous function, which is a concept useful in signal processing in neuroscience.\n",
    "\n",
    "Given a continuous function $f(t)$ representing a continuous signal over time, and considering the sifting property of the Dirac Delta function,\n",
    "\n",
    "**Task:** \n",
    "- Write the integral expression that extracts the value of $f(t)$ at time $t_0$ using the Dirac Delta function.\n",
    "\n",
    "Write your answer in the following markdown cell:"
   ]
  },
  {
   "cell_type": "markdown",
   "metadata": {},
   "source": [
    "\n",
    "$ \\int_{-\\infty}^{\\infty} f(t) \\cdot \\delta(t - t_0) \\, dt = f(t_0) $\n"
   ]
  },
  {
   "cell_type": "markdown",
   "metadata": {},
   "source": [
    "<a id=\"question-3\"></a>\n",
    "### Question 3: Mathematical Expression of Discrete Fourier Transform (DFT)\n",
    "\n",
    "The Discrete Fourier Transform (DFT) is used to analyze the frequency content of discrete signals.\n",
    "\n",
    "**Task:**\n",
    "Given a discrete time series $x[n]$ where $n = [0, 1, ..., N-1]$ and $N$ is the total number of samples, write down the mathematical expression for the DFT, $X[k]$, of this time series.\n",
    "\n",
    "Write your answer in the following markdown cell:"
   ]
  },
  {
   "cell_type": "markdown",
   "metadata": {},
   "source": [
    "$X[k] = \\sum_{n=0}^{N-1} x[n] \\cdot e^{-j\\frac{2\\pi}{N}kn} $\n"
   ]
  },
  {
   "cell_type": "markdown",
   "metadata": {},
   "source": [
    "<a id=\"question-4\"></a>\n",
    "### Question 4: Conceptual Understanding of Time Domain to Frequency Domain\n",
    "The transformation from the time domain to the frequency domain is a foundational concept in signal processing and is useful in analyzing a wide range of neurophysiological signals.\n",
    "\n",
    "**Task:**\n",
    "Explain, in your own words, the significance of transforming a signal from the time domain to the frequency domain. Discuss how this transformation can be beneficial in the context of analyzing neurophysiological signals.\n",
    "\n",
    "Write your answer in the following markdown cell:"
   ]
  },
  {
   "cell_type": "markdown",
   "metadata": {},
   "source": [
    "# Import dependencies\n",
    "import numpy as np\n",
    "import matplotlib.pyplot as plt\n",
    "from pylab import *\n",
    "from scipy.io import loadmat\n",
    "import os\n",
    "from scipy.signal import spectrogram\n",
    "from scipy.io import loadmat\n",
    "\n",
    "rcParams['figure.figsize']=(12,3)"
   ]
  },
  {
   "cell_type": "markdown",
   "metadata": {},
   "source": [
    "------------------------------------------------------------------------------------------------------"
   ]
  },
  {
   "cell_type": "markdown",
   "metadata": {},
   "source": [
    "<a id='programming-exercises'> </a>\n",
    "## Programming Exercises - Analyzing EEG Data\n",
    "\n",
    "The following code cells contain the programming portion of this homework assignment. In this assignment, we will load an EEG signal, examine it, and record our obersvations. Then, we will transform the signal into the frequency domain using a Fourier Transform. Finally, we will write down our observations about the signal expressed in the frequency domain."
   ]
  },
  {
   "cell_type": "markdown",
   "metadata": {},
   "source": [
    "<a id='loading-data'> </a>\n",
    "### Loading and Visualizing EEG Data"
   ]
  },
  {
   "cell_type": "code",
   "execution_count": null,
   "metadata": {},
   "outputs": [],
   "source": [
    "# Import dependencies\n",
    "import numpy as np\n",
    "import matplotlib.pyplot as plt\n",
    "from pylab import *\n",
    "from scipy.io import loadmat\n",
    "import os\n",
    "from scipy.signal import spectrogram\n",
    "from scipy.io import loadmat\n",
    "\n",
    "rcParams['figure.figsize']=(12,3)"
   ]
  },
  {
   "cell_type": "code",
   "execution_count": null,
   "metadata": {},
   "outputs": [],
   "source": [
    "## First, we inspect the data in the time domain\n",
    "from scipy.io import loadmat\n",
    "\n",
    "data = loadmat('EEG-Signal-Homework.mat')  # Load the EEG data\n",
    "EEG = data['EEG'][:, 0]                 # Extract the EEG variable\n",
    "t = data['t'][0]                        # Extract the time variable\n",
    "\n",
    "plot(t, EEG)                            # Plot the data in the time domain\n",
    "xlabel('Time [s]')                      # Label the time axis\n",
    "ylabel('Voltage [$\\mu V$]')             # Label the voltage axis\n",
    "autoscale(tight=True)                   # Minimize white space\n",
    "show()"
   ]
  },
  {
   "cell_type": "markdown",
   "metadata": {},
   "source": [
    "In our plot, the voltage trace is plotted as a continuous line, but don't be fooled into thinking that the signal has been stored as a continuous signal. If we zoom in on the data, we can see our signal actually consists of discreet data points (shown below). Although the physiological signal being recorded evolves as a continuous signal, we observe discrete samples of this continuous signal. The sampling rate is determined by the EEG recording device used. In this example, the **data is being sampled at 1000Hz, or one sample every 1ms.**"
   ]
  },
  {
   "cell_type": "code",
   "execution_count": null,
   "metadata": {},
   "outputs": [],
   "source": [
    "plot(t[:25], EEG[:25], 'o-')    # Plot the first 25 points\n",
    "xlabel('Time [s]')              # Label the time axis\n",
    "ylabel('Voltage [$\\mu V$]')     # Label the voltage axis\n",
    "show()"
   ]
  },
  {
   "cell_type": "markdown",
   "metadata": {},
   "source": [
    "<a id=\"question-5\"></a>\n",
    "### Question 5: record your observations\n",
    "\n",
    "In the following markdown cell, in a few sentences, record your observations of this signal in its time domain. What can and cannot be inferred from the signal when it is represented in this format?"
   ]
  },
  {
   "attachments": {
    "image.png": {
     "image/png": "[encoded data removed]"
    }
   },
   "cell_type": "markdown",
   "metadata": {},
   "source": [
    "![image.png](attachment:image.png)\n",
    "\n",
    "I can inferred there is one signal and it has low frequency."
   ]
  },
  {
   "cell_type": "markdown",
   "metadata": {},
   "source": [
    "<a id=\"question-6\"></a>\n",
    "### Question 6: calculating total time and sampling frequency\n",
    "\n",
    "We denote the sampling variables as follows:\n",
    "\n",
    "&emsp; **Total time sampled:** &emsp;  $ T = N \\Delta$\n",
    "\n",
    "Where:\n",
    "\n",
    "&emsp; $\\Delta$ &emsp; = &emsp; time between samples\n",
    "\n",
    "&emsp; $N$ &emsp; = &emsp; number of samples\n",
    "\n",
    "We denote the **sampling frequency** as:\n",
    "\n",
    "&emsp; $f_s = 1/\\Delta$\n",
    "\n",
    "Please fill out the following python code sell to define the variables for $\\Delta$ (dt), $N$, $T$, and $f_s$ (f_s)."
   ]
  },
  {
   "cell_type": "code",
   "execution_count": null,
   "metadata": {},
   "outputs": [],
   "source": [
    "dt = t[1] - t[0] \n",
    "N = len(EEG)\n",
    "T = N * dt\n",
    "f_s = 1/dt"
   ]
  },
  {
   "cell_type": "markdown",
   "metadata": {},
   "source": [
    "<a id=\"question-7\"></a>\n",
    "### Question 7: Fourier Transform of the EEG Data\n",
    "\n",
    "While there are many techniques to analyze rhythmic activity in EEG data, in this example we will compute the *power spectral density*, or simply the *spectrum*, of the signal using the <a href=\"https://en.wikipedia.org/wiki/Fourier_transform\" rel=\"external\">*Fourier transform*</a>.\n",
    "    \n",
    "**Note**: The *spectrum* of the data is the magnitude squared of the Fourier-transformed data. The spectrum indicates the amplitude of rhythmic activity as a function of frequency. The *power spectral density* describes the extent to which sinusoids of a single frequency capture the structure of the data. To compute the power over any range of frequencies, we would integrate (or for discrete frequencies, sum) the spectrum over that frequency range.\n",
    "\n",
    "In the following code cell, use the Fourier transform functions in Numpy to transform the EEG signal into the frequency domain."
   ]
  },
  {
   "cell_type": "code",
   "execution_count": null,
   "metadata": {},
   "outputs": [],
   "source": [
    "import numpy as np\n",
    "\n",
    "EEG_transformed = np.fft.rfft(EEG)\n",
    "''' Hint: look up the fourier transform functions in Numpy, and use the Discrete Fourier Transform for real input function'''\n",
    "\n",
    "spectrum = (2 * dt ** 2 / T * EEG_transformed  * EEG_transformed.conj()).real\n",
    "faxis = arange(len(spectrum)) / T.max()\n",
    "plot(faxis, spectrum)\n",
    "xlim([0, 100]) # Setting the frequency range.\n",
    "xlabel('Frequency (Hz)')\n",
    "ylabel('Power [$\\mu V^2$/Hz]')\n",
    "show()"
   ]
  },
  {
   "cell_type": "markdown",
   "metadata": {},
   "source": [
    "<a id=\"question-8\"></a>\n",
    "### Question 8: record observations about the frequency plot\n",
    "\n",
    "In the following markdown cell, record your observations about the frequency domain plot, and what conclusions can or cannot be drawn from this plot. Do you suspect there to be any data that is not immediately observable in the plot?"
   ]
  },
  {
   "attachments": {
    "image.png": {
     "image/png": "[encoded data removed]"
    }
   },
   "cell_type": "markdown",
   "metadata": {},
   "source": [
    "![image.png](attachment:image.png)\n",
    "\n",
    "From this plot, I can inferred that one rhythem appears in the EEG signal"
   ]
  },
  {
   "cell_type": "markdown",
   "metadata": {},
   "source": [
    "<a id=\"decibel-scale\"></a>\n",
    "### Decibel Scaling\n",
    "\n",
    "From the frequency plot, we can observe that the spectrum is dominated by a single peak at 60 Hz. There may be additional weaker rhythmic activity in the data, but these features remain hidden in the plot because of the large 60 Hz peak. We could state that the 60 Hz peak saturates the vertical scale. One technique to emphasize lower-amplitude rhythms hidden by large-amplitude oscillations is to change the scale of the spectrum to **decibels**. The decibel scale is a logarithmic scale. To convert our scale to decibels, we divide the spectrum by the maximum value observed in it, and then take the base 10 logarithm of this ratio. Finally, we multiply the result by 10."
   ]
  },
  {
   "cell_type": "code",
   "execution_count": null,
   "metadata": {},
   "outputs": [],
   "source": [
    "plot(faxis, 10 * log10(spectrum / max(spectrum)))  # Plot the spectrum in decibels.\n",
    "xlim([0, 100])                           # Setting the frequency range.\n",
    "ylim([-60, 0])                           # Setting the decibel range.\n",
    "xlabel('Frequency [Hz]')                \n",
    "ylabel('Power [dB]')\n",
    "show()"
   ]
  },
  {
   "cell_type": "markdown",
   "metadata": {},
   "source": [
    "<a id=\"question-9\"></a>\n",
    "### Question 9: interpreting decibel scale results\n",
    "\n",
    "In the following code cell, answer the question \"what is the value in decibels at 60Hz?\"\n",
    "Enter your answer by setting the variable \"decibel-value_at_60\" to your answer."
   ]
  },
  {
   "cell_type": "code",
   "execution_count": null,
   "metadata": {},
   "outputs": [],
   "source": [
    "decibel_value_at_60 = 0"
   ]
  },
  {
   "cell_type": "markdown",
   "metadata": {},
   "source": [
    "The decibel scale reveals new structure in the spectrum. In particular, two peaks have emerged at frequencies 5–15 Hz. These peaks are much weaker than the 60 Hz signal; both peaks are approximately 30 dB below the maximum at 60 Hz, or equivalently, three *orders of magnitude* weaker. Because these peaks are so small relative to the 60 Hz signal, neither was apparent in the original plot of the spectrum."
   ]
  },
  {
   "cell_type": "markdown",
   "metadata": {},
   "source": [
    "<a id=\"spectrogram\"></a>\n",
    "### The Spectrogram"
   ]
  },
  {
   "cell_type": "markdown",
   "metadata": {},
   "source": [
    "The spectrum plotted using the decibel scale suggests that three rhythms appear in the EEG signal: 60 Hz, approximately 11 Hz, and approximately 6 Hz. Given only these results, we may reasonably conclude that these three rhythms appear simultaneously throughout the entirety of the EEG recording. That is an assumption we make in computing the spectrum of the entire interval. To further test this assumption in the EEG data, we compute the *spectrogram*. The idea of the spectrogram is to break up the time series into smaller intervals of data and then compute the spectrum in each interval. These intervals can be quite small and can even overlap. The result is the spectrum as a function of frequency and time.\n",
    "\n",
    "To compute and display the spectrogram in Python, we use the function `spectrogram` from the `scipy` module, and provide four arguments to the function:\n",
    "\n",
    "  - Data: 'EEG'\n",
    "  - Sampling frequency: 'fs'\n",
    "  - Interval size/segment length: 'nperseg'\n",
    "  - Overlap between intervals (here set to 95%): 'noverlap'\n",
    "\n",
    "More information about these options can be found in the documentation:\n",
    "\n",
    "[https://docs.scipy.org/doc/scipy/reference/generated/scipy.signal.spectrogram.html](https://docs.scipy.org/doc/scipy/reference/generated/scipy.signal.spectrogram.html)"
   ]
  },
  {
   "cell_type": "code",
   "execution_count": null,
   "metadata": {},
   "outputs": [],
   "source": [
    "from scipy.signal import spectrogram\n",
    "\n",
    "f, t, Sxx = spectrogram(\n",
    "    EEG,                  \n",
    "    fs=f_s,                \n",
    "    nperseg=int(f_s),     \n",
    "    noverlap=int(f_s * 0.95))     \n",
    "pcolormesh(t, f, 10 * log10(Sxx), cmap='jet')\n",
    "colorbar()                \n",
    "ylim([0, 70])             \n",
    "xlabel('Time [s]')        \n",
    "ylabel('Frequency [Hz]')\n",
    "show()"
   ]
  }
 ],
 "metadata": {
  "kernelspec": {
   "display_name": "Python 3",
   "language": "python",
   "name": "python3"
  },
  "language_info": {
   "codemirror_mode": {
    "name": "ipython",
    "version": 3
   },
   "file_extension": ".py",
   "mimetype": "text/x-python",
   "name": "python",
   "nbconvert_exporter": "python",
   "pygments_lexer": "ipython3",
   "version": "3.10.1"
  }
 },
 "nbformat": 4,
 "nbformat_minor": 2
}
